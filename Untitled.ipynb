{
 "cells": [
  {
   "cell_type": "code",
   "execution_count": 1,
   "metadata": {},
   "outputs": [],
   "source": [
    "import csv"
   ]
  },
  {
   "cell_type": "code",
   "execution_count": 12,
   "metadata": {},
   "outputs": [],
   "source": [
    "path = 'arbolado-en-espacios-verdes.csv'\n",
    "parque = 'GENERAL PAZ'"
   ]
  },
  {
   "cell_type": "code",
   "execution_count": 3,
   "metadata": {},
   "outputs": [],
   "source": [
    "data = open(path, 'rt')\n",
    "rows = csv.DictReader(data)"
   ]
  },
  {
   "cell_type": "code",
   "execution_count": 8,
   "metadata": {},
   "outputs": [],
   "source": [
    "import pandas as pd"
   ]
  },
  {
   "cell_type": "code",
   "execution_count": 17,
   "metadata": {},
   "outputs": [
    {
     "data": {
      "text/html": [
       "<div>\n",
       "<style scoped>\n",
       "    .dataframe tbody tr th:only-of-type {\n",
       "        vertical-align: middle;\n",
       "    }\n",
       "\n",
       "    .dataframe tbody tr th {\n",
       "        vertical-align: top;\n",
       "    }\n",
       "\n",
       "    .dataframe thead th {\n",
       "        text-align: right;\n",
       "    }\n",
       "</style>\n",
       "<table border=\"1\" class=\"dataframe\">\n",
       "  <thead>\n",
       "    <tr style=\"text-align: right;\">\n",
       "      <th></th>\n",
       "      <th>long</th>\n",
       "      <th>lat</th>\n",
       "      <th>id_arbol</th>\n",
       "      <th>altura_tot</th>\n",
       "      <th>diametro</th>\n",
       "      <th>inclinacio</th>\n",
       "      <th>id_especie</th>\n",
       "      <th>nombre_com</th>\n",
       "      <th>nombre_cie</th>\n",
       "      <th>tipo_folla</th>\n",
       "      <th>espacio_ve</th>\n",
       "      <th>ubicacion</th>\n",
       "      <th>nombre_fam</th>\n",
       "      <th>nombre_gen</th>\n",
       "      <th>origen</th>\n",
       "      <th>coord_x</th>\n",
       "      <th>coord_y</th>\n",
       "    </tr>\n",
       "  </thead>\n",
       "  <tbody>\n",
       "    <tr>\n",
       "      <th>0</th>\n",
       "      <td>-58.477564</td>\n",
       "      <td>-34.645015</td>\n",
       "      <td>1</td>\n",
       "      <td>6</td>\n",
       "      <td>35</td>\n",
       "      <td>0</td>\n",
       "      <td>53</td>\n",
       "      <td>Washingtonia (Palmera washingtonia)</td>\n",
       "      <td>Washingtonia filifera</td>\n",
       "      <td>Palmera</td>\n",
       "      <td>AVELLANEDA, NICOLÁS, Pres.</td>\n",
       "      <td>DIRECTORIO, AV. - LACARRA, AV. - MONTE -  AUTO...</td>\n",
       "      <td>Arecaceas</td>\n",
       "      <td>Washingtonia</td>\n",
       "      <td>Exótico</td>\n",
       "      <td>98692.305719</td>\n",
       "      <td>98253.300738</td>\n",
       "    </tr>\n",
       "    <tr>\n",
       "      <th>1</th>\n",
       "      <td>-58.477559</td>\n",
       "      <td>-34.645047</td>\n",
       "      <td>2</td>\n",
       "      <td>6</td>\n",
       "      <td>35</td>\n",
       "      <td>0</td>\n",
       "      <td>53</td>\n",
       "      <td>Washingtonia (Palmera washingtonia)</td>\n",
       "      <td>Washingtonia filifera</td>\n",
       "      <td>Palmera</td>\n",
       "      <td>AVELLANEDA, NICOLÁS, Pres.</td>\n",
       "      <td>DIRECTORIO, AV. - LACARRA, AV. - MONTE -  AUTO...</td>\n",
       "      <td>Arecaceas</td>\n",
       "      <td>Washingtonia</td>\n",
       "      <td>Exótico</td>\n",
       "      <td>98692.751564</td>\n",
       "      <td>98249.733979</td>\n",
       "    </tr>\n",
       "    <tr>\n",
       "      <th>2</th>\n",
       "      <td>-58.477551</td>\n",
       "      <td>-34.645091</td>\n",
       "      <td>3</td>\n",
       "      <td>6</td>\n",
       "      <td>35</td>\n",
       "      <td>0</td>\n",
       "      <td>53</td>\n",
       "      <td>Washingtonia (Palmera washingtonia)</td>\n",
       "      <td>Washingtonia filifera</td>\n",
       "      <td>Palmera</td>\n",
       "      <td>AVELLANEDA, NICOLÁS, Pres.</td>\n",
       "      <td>DIRECTORIO, AV. - LACARRA, AV. - MONTE -  AUTO...</td>\n",
       "      <td>Arecaceas</td>\n",
       "      <td>Washingtonia</td>\n",
       "      <td>Exótico</td>\n",
       "      <td>98693.494639</td>\n",
       "      <td>98244.829684</td>\n",
       "    </tr>\n",
       "    <tr>\n",
       "      <th>3</th>\n",
       "      <td>-58.478129</td>\n",
       "      <td>-34.644567</td>\n",
       "      <td>4</td>\n",
       "      <td>17</td>\n",
       "      <td>50</td>\n",
       "      <td>0</td>\n",
       "      <td>65</td>\n",
       "      <td>Ombú</td>\n",
       "      <td>Phytolacca dioica</td>\n",
       "      <td>Árbol Latifoliado Caducifolio</td>\n",
       "      <td>AVELLANEDA, NICOLÁS, Pres.</td>\n",
       "      <td>DIRECTORIO, AV. - LACARRA, AV. - MONTE -  AUTO...</td>\n",
       "      <td>Fitolacáceas</td>\n",
       "      <td>Phytolacca</td>\n",
       "      <td>Nativo/Autóctono</td>\n",
       "      <td>98640.439091</td>\n",
       "      <td>98302.938142</td>\n",
       "    </tr>\n",
       "    <tr>\n",
       "      <th>4</th>\n",
       "      <td>-58.478121</td>\n",
       "      <td>-34.644598</td>\n",
       "      <td>5</td>\n",
       "      <td>17</td>\n",
       "      <td>50</td>\n",
       "      <td>0</td>\n",
       "      <td>65</td>\n",
       "      <td>Ombú</td>\n",
       "      <td>Phytolacca dioica</td>\n",
       "      <td>Árbol Latifoliado Caducifolio</td>\n",
       "      <td>AVELLANEDA, NICOLÁS, Pres.</td>\n",
       "      <td>DIRECTORIO, AV. - LACARRA, AV. - MONTE -  AUTO...</td>\n",
       "      <td>Fitolacáceas</td>\n",
       "      <td>Phytolacca</td>\n",
       "      <td>Nativo/Autóctono</td>\n",
       "      <td>98641.182166</td>\n",
       "      <td>98299.519997</td>\n",
       "    </tr>\n",
       "  </tbody>\n",
       "</table>\n",
       "</div>"
      ],
      "text/plain": [
       "        long        lat  id_arbol  altura_tot  diametro  inclinacio  \\\n",
       "0 -58.477564 -34.645015         1           6        35           0   \n",
       "1 -58.477559 -34.645047         2           6        35           0   \n",
       "2 -58.477551 -34.645091         3           6        35           0   \n",
       "3 -58.478129 -34.644567         4          17        50           0   \n",
       "4 -58.478121 -34.644598         5          17        50           0   \n",
       "\n",
       "   id_especie                           nombre_com             nombre_cie  \\\n",
       "0          53  Washingtonia (Palmera washingtonia)  Washingtonia filifera   \n",
       "1          53  Washingtonia (Palmera washingtonia)  Washingtonia filifera   \n",
       "2          53  Washingtonia (Palmera washingtonia)  Washingtonia filifera   \n",
       "3          65                                 Ombú      Phytolacca dioica   \n",
       "4          65                                 Ombú      Phytolacca dioica   \n",
       "\n",
       "                      tipo_folla                  espacio_ve  \\\n",
       "0                        Palmera  AVELLANEDA, NICOLÁS, Pres.   \n",
       "1                        Palmera  AVELLANEDA, NICOLÁS, Pres.   \n",
       "2                        Palmera  AVELLANEDA, NICOLÁS, Pres.   \n",
       "3  Árbol Latifoliado Caducifolio  AVELLANEDA, NICOLÁS, Pres.   \n",
       "4  Árbol Latifoliado Caducifolio  AVELLANEDA, NICOLÁS, Pres.   \n",
       "\n",
       "                                           ubicacion    nombre_fam  \\\n",
       "0  DIRECTORIO, AV. - LACARRA, AV. - MONTE -  AUTO...     Arecaceas   \n",
       "1  DIRECTORIO, AV. - LACARRA, AV. - MONTE -  AUTO...     Arecaceas   \n",
       "2  DIRECTORIO, AV. - LACARRA, AV. - MONTE -  AUTO...     Arecaceas   \n",
       "3  DIRECTORIO, AV. - LACARRA, AV. - MONTE -  AUTO...  Fitolacáceas   \n",
       "4  DIRECTORIO, AV. - LACARRA, AV. - MONTE -  AUTO...  Fitolacáceas   \n",
       "\n",
       "     nombre_gen            origen       coord_x       coord_y  \n",
       "0  Washingtonia           Exótico  98692.305719  98253.300738  \n",
       "1  Washingtonia           Exótico  98692.751564  98249.733979  \n",
       "2  Washingtonia           Exótico  98693.494639  98244.829684  \n",
       "3    Phytolacca  Nativo/Autóctono  98640.439091  98302.938142  \n",
       "4    Phytolacca  Nativo/Autóctono  98641.182166  98299.519997  "
      ]
     },
     "execution_count": 17,
     "metadata": {},
     "output_type": "execute_result"
    }
   ],
   "source": [
    "df = pd.read_csv(path)\n",
    "df.head()"
   ]
  },
  {
   "cell_type": "code",
   "execution_count": 24,
   "metadata": {},
   "outputs": [
    {
     "data": {
      "text/plain": [
       "(690, 17)"
      ]
     },
     "execution_count": 24,
     "metadata": {},
     "output_type": "execute_result"
    }
   ],
   "source": [
    "gral_paz = df[df['espacio_ve'] == 'GENERAL PAZ']\n",
    "gral_paz.shape"
   ]
  },
  {
   "cell_type": "code",
   "execution_count": 32,
   "metadata": {},
   "outputs": [
    {
     "data": {
      "text/plain": [
       "Casuarina               97\n",
       "Tipa blanca             54\n",
       "Eucalipto               49\n",
       "Palo borracho rosado    44\n",
       "Fenix                   40\n",
       "Ciprés                  33\n",
       "Plátano                 31\n",
       "Cedro del Himalaya      22\n",
       "Morera blanca           22\n",
       "Jacarandá               20\n",
       "Name: nombre_com, dtype: int64"
      ]
     },
     "execution_count": 32,
     "metadata": {},
     "output_type": "execute_result"
    }
   ],
   "source": [
    "gral_paz['nombre_com'].value_counts().head(10)"
   ]
  },
  {
   "cell_type": "code",
   "execution_count": 36,
   "metadata": {},
   "outputs": [
    {
     "data": {
      "text/plain": [
       "espacio_ve                           nombre_com                               \n",
       "1 DE MARZO DE 1948                   No Determinable                               8\n",
       "                                     Palo borracho rosado                          7\n",
       "                                     Pata de vaca  (Pezuña de vaca)                7\n",
       "                                     Roble                                         4\n",
       "                                     Álamo plateado                                4\n",
       "                                     Olmo europeo                                  3\n",
       "                                     Ginkgo                                        2\n",
       "                                     Ligustro                                      2\n",
       "                                     Timbó (Oreja de negro)                        2\n",
       "                                     Visco (Viscote, Arca)                         2\n",
       "                                     Fenix                                         1\n",
       "                                     Fresno americano                              1\n",
       "                                     Limpiatubos                                   1\n",
       "                                     Pino de las canarias                          1\n",
       "                                     Roble palustre                                1\n",
       "                                     Tilo                                          1\n",
       "11 DE JUNIO DE 1580                  Roble común                                   1\n",
       "11 DE NOVIEMBRE DE 1859              Acacia de Baile (Mimosa de Baile)             5\n",
       "                                     Ficus                                         3\n",
       "                                     Ciprés                                        2\n",
       "                                     Fresno (Fresno común)                         2\n",
       "                                     Lapacho rosado                                2\n",
       "                                     Tipa blanca                                   2\n",
       "                                     Arce negundo                                  1\n",
       "                                     Encina                                        1\n",
       "                                     Lapacho                                       1\n",
       "                                     Pindó                                         1\n",
       "                                     Roble común                                   1\n",
       "17 DE MAYO (Denominación Propuesta)  Fresno americano                             14\n",
       "                                     Ficus                                         4\n",
       "                                                                                  ..\n",
       "ZABALA, ROMULO                       Fresno americano                              8\n",
       "                                     Plátano                                       4\n",
       "                                     Brachichiton (Árbol botella, Brachichito)     2\n",
       "                                     Durazno                                       2\n",
       "                                     Pino piñonero                                 2\n",
       "                                     Tipa blanca                                   2\n",
       "                                     Tilo                                          1\n",
       "ZANNI, PEDRO, Comodoro               Eucalipto                                    26\n",
       "                                     Parasol de la china                           2\n",
       "                                     Plátano                                       1\n",
       "ZAPIOLA, JOSE MARIA, Brig. Gral.     Plátano                                      21\n",
       "                                     Ciprés                                        5\n",
       "                                     Jacarandá                                     5\n",
       "                                     Acacia de constantinopla                      4\n",
       "                                     Fenix                                         4\n",
       "                                     Fresno americano                              4\n",
       "                                     Rosa de Siria                                 4\n",
       "                                     Ficus                                         2\n",
       "                                     Alcanforero                                   1\n",
       "                                     Hibiscus                                      1\n",
       "                                     Magnolia                                      1\n",
       "                                     Pata de vaca  (Pezuña de vaca)                1\n",
       "                                     Timbó (Oreja de negro)                        1\n",
       "ZINNY, ANTONIO ABRAHAM               Tilo                                          1\n",
       "ÁVILES DE ELIZALDE, DELIA            Gomero                                        2\n",
       "                                     Limpiatubos                                   2\n",
       "                                     Tipa blanca                                   2\n",
       "                                     Ciprés                                        1\n",
       "                                     Fresno (Fresno común)                         1\n",
       "                                     Paraíso                                       1\n",
       "Name: nombre_com, Length: 7375, dtype: int64"
      ]
     },
     "execution_count": 36,
     "metadata": {},
     "output_type": "execute_result"
    }
   ],
   "source": [
    "grouped = df.groupby('espacio_ve')\n",
    "grouped['nombre_com'].value_counts()"
   ]
  },
  {
   "cell_type": "code",
   "execution_count": 42,
   "metadata": {},
   "outputs": [
    {
     "data": {
      "text/plain": [
       "583"
      ]
     },
     "execution_count": 42,
     "metadata": {},
     "output_type": "execute_result"
    }
   ],
   "source": [
    "len(df['espacio_ve'].unique())"
   ]
  }
 ],
 "metadata": {
  "kernelspec": {
   "display_name": "Python 3",
   "language": "python",
   "name": "python3"
  },
  "language_info": {
   "codemirror_mode": {
    "name": "ipython",
    "version": 3
   },
   "file_extension": ".py",
   "mimetype": "text/x-python",
   "name": "python",
   "nbconvert_exporter": "python",
   "pygments_lexer": "ipython3",
   "version": "3.7.3"
  }
 },
 "nbformat": 4,
 "nbformat_minor": 2
}
